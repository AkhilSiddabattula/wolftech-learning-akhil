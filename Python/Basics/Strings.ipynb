{
 "cells": [
  {
   "cell_type": "markdown",
   "id": "6866b2b3",
   "metadata": {},
   "source": [
    "# Strings\n",
    "- Strings are sequences of characters\n",
    "- We can write strings either in <b>single quotes</b> or <b>double quotes</b>"
   ]
  },
  {
   "cell_type": "code",
   "execution_count": 1,
   "id": "fd7004ad",
   "metadata": {},
   "outputs": [
    {
     "name": "stdout",
     "output_type": "stream",
     "text": [
      "Hello, my name is akhil.\n"
     ]
    }
   ],
   "source": [
    "s = \"Hello, my name is akhil.\"\n",
    "print(s)"
   ]
  },
  {
   "cell_type": "code",
   "execution_count": 2,
   "id": "c029129b",
   "metadata": {},
   "outputs": [
    {
     "name": "stdout",
     "output_type": "stream",
     "text": [
      "Hello, my name is akhil.\n"
     ]
    }
   ],
   "source": [
    "s = 'Hello, my name is akhil.'\n",
    "print(s)"
   ]
  },
  {
   "cell_type": "code",
   "execution_count": 3,
   "id": "40265470",
   "metadata": {},
   "outputs": [
    {
     "name": "stdout",
     "output_type": "stream",
     "text": [
      "I'm akhil\n"
     ]
    }
   ],
   "source": [
    "s = \"I'm akhil\"\n",
    "print(s)"
   ]
  },
  {
   "cell_type": "markdown",
   "id": "ae381be0",
   "metadata": {},
   "source": [
    "#### Multi-line strings\n",
    "- By using 3 single or double quotes, we can write multi-line string"
   ]
  },
  {
   "cell_type": "code",
   "execution_count": 4,
   "id": "2c8a96c8",
   "metadata": {},
   "outputs": [
    {
     "name": "stdout",
     "output_type": "stream",
     "text": [
      "\n",
      "Lorem ipsum dolor sit amet,\n",
      "consectetur adipiscing elit,\n",
      "sed do eiusmod tempor incididunt\n",
      "ut labore et dolore magna aliqua.\n",
      "\n"
     ]
    }
   ],
   "source": [
    "mul = \"\"\"\n",
    "Lorem ipsum dolor sit amet,\n",
    "consectetur adipiscing elit,\n",
    "sed do eiusmod tempor incididunt\n",
    "ut labore et dolore magna aliqua.\n",
    "\"\"\"\n",
    "print(mul)"
   ]
  },
  {
   "cell_type": "markdown",
   "id": "9c755923",
   "metadata": {},
   "source": [
    "#### Indexing\n",
    "- Strings are sequences of characters, so you can access each character from the string, by using indexing\n",
    "- Index starts with 0\n",
    "- Reverse Index starts with -1\n",
    "```\n",
    "String : A  K  H  I  L\n",
    "  Index : 0  1  2  3  4\n",
    "Rev Index: -5 -4 -3 -2 -1\n",
    "```\n",
    "> SYNTAX: variable[index]\n"
   ]
  },
  {
   "cell_type": "code",
   "execution_count": 5,
   "id": "b486acab",
   "metadata": {},
   "outputs": [],
   "source": [
    "name = 'AKHIL'"
   ]
  },
  {
   "cell_type": "code",
   "execution_count": 6,
   "id": "b595000a",
   "metadata": {},
   "outputs": [
    {
     "name": "stdout",
     "output_type": "stream",
     "text": [
      "A\n"
     ]
    }
   ],
   "source": [
    "print(name[-5])"
   ]
  },
  {
   "cell_type": "code",
   "execution_count": 7,
   "id": "d23e93e2",
   "metadata": {},
   "outputs": [
    {
     "name": "stdout",
     "output_type": "stream",
     "text": [
      "I\n"
     ]
    }
   ],
   "source": [
    "print(name[3])"
   ]
  },
  {
   "cell_type": "code",
   "execution_count": 8,
   "id": "99db48d7",
   "metadata": {},
   "outputs": [
    {
     "name": "stdout",
     "output_type": "stream",
     "text": [
      "K\n"
     ]
    }
   ],
   "source": [
    "print(name[1])"
   ]
  },
  {
   "cell_type": "markdown",
   "id": "e806d44c",
   "metadata": {},
   "source": [
    "#### Slicing\n",
    "- we can extract specific part from the string, by using slicing\n",
    "- stop index not included in extraction\n",
    "> SYNTAX: variable[start index : stop index]\n"
   ]
  },
  {
   "cell_type": "code",
   "execution_count": 9,
   "id": "6eca916e",
   "metadata": {},
   "outputs": [
    {
     "name": "stdout",
     "output_type": "stream",
     "text": [
      "Akhil Siddabattula\n"
     ]
    }
   ],
   "source": [
    "full_name = \"Akhil Siddabattula\"\n",
    "print(full_name)"
   ]
  },
  {
   "cell_type": "code",
   "execution_count": 10,
   "id": "82dc8212",
   "metadata": {},
   "outputs": [
    {
     "name": "stdout",
     "output_type": "stream",
     "text": [
      "Akhil\n"
     ]
    }
   ],
   "source": [
    "first_name = full_name[0:5]\n",
    "print(first_name)"
   ]
  },
  {
   "cell_type": "code",
   "execution_count": 11,
   "id": "caceaaec",
   "metadata": {},
   "outputs": [
    {
     "name": "stdout",
     "output_type": "stream",
     "text": [
      "Siddabattula\n"
     ]
    }
   ],
   "source": [
    "last_name = full_name[6:19]\n",
    "print(last_name)"
   ]
  },
  {
   "cell_type": "markdown",
   "id": "5134b9b5",
   "metadata": {},
   "source": [
    "- slicing from start, by only specifying end index"
   ]
  },
  {
   "cell_type": "code",
   "execution_count": 12,
   "id": "681654bf",
   "metadata": {},
   "outputs": [
    {
     "name": "stdout",
     "output_type": "stream",
     "text": [
      "Akhil\n"
     ]
    }
   ],
   "source": [
    "first_name = full_name[:5]\n",
    "print(first_name)"
   ]
  },
  {
   "cell_type": "markdown",
   "id": "38efc994",
   "metadata": {},
   "source": [
    "- slicing from end, by only specifying start index"
   ]
  },
  {
   "cell_type": "code",
   "execution_count": 13,
   "id": "6db1fde2",
   "metadata": {},
   "outputs": [
    {
     "name": "stdout",
     "output_type": "stream",
     "text": [
      "Siddabattula\n"
     ]
    }
   ],
   "source": [
    "last_name = full_name[6:]\n",
    "print(last_name)"
   ]
  },
  {
   "cell_type": "code",
   "execution_count": 14,
   "id": "30bb7bc7",
   "metadata": {},
   "outputs": [
    {
     "name": "stdout",
     "output_type": "stream",
     "text": [
      "Akhil Siddabattula\n"
     ]
    }
   ],
   "source": [
    "print(full_name)"
   ]
  },
  {
   "cell_type": "markdown",
   "id": "2898e7a5",
   "metadata": {},
   "source": [
    "- By specifying number in the step as below, it will skip the step as per specified count\n",
    "- By default it is 1"
   ]
  },
  {
   "cell_type": "code",
   "execution_count": 15,
   "id": "17cb1c34",
   "metadata": {},
   "outputs": [
    {
     "name": "stdout",
     "output_type": "stream",
     "text": [
      "Akhil Siddabattula\n"
     ]
    }
   ],
   "source": [
    "print(full_name[::1])"
   ]
  },
  {
   "cell_type": "code",
   "execution_count": 16,
   "id": "bbe5c8c0",
   "metadata": {},
   "outputs": [
    {
     "name": "stdout",
     "output_type": "stream",
     "text": [
      "AhlSdaatl\n"
     ]
    }
   ],
   "source": [
    "print(full_name[::2])"
   ]
  },
  {
   "cell_type": "code",
   "execution_count": 17,
   "id": "c7327f55",
   "metadata": {},
   "outputs": [
    {
     "name": "stdout",
     "output_type": "stream",
     "text": [
      "AiSdau\n"
     ]
    }
   ],
   "source": [
    "print(full_name[::3])"
   ]
  },
  {
   "cell_type": "markdown",
   "id": "b98f8a77",
   "metadata": {},
   "source": [
    "- By using this process we can reverse a string"
   ]
  },
  {
   "cell_type": "code",
   "execution_count": 18,
   "id": "e62502dd",
   "metadata": {},
   "outputs": [
    {
     "name": "stdout",
     "output_type": "stream",
     "text": [
      "aluttabaddiS lihkA\n"
     ]
    }
   ],
   "source": [
    "print(full_name[::-1])"
   ]
  },
  {
   "cell_type": "markdown",
   "id": "1d156b93",
   "metadata": {},
   "source": [
    "#### String Concatenation\n",
    "- we can combine two strings by adding <b>+</b> between two strings."
   ]
  },
  {
   "cell_type": "code",
   "execution_count": 19,
   "id": "6c0e404a",
   "metadata": {},
   "outputs": [
    {
     "name": "stdout",
     "output_type": "stream",
     "text": [
      "Akhil\n"
     ]
    }
   ],
   "source": [
    "print(first_name)"
   ]
  },
  {
   "cell_type": "code",
   "execution_count": 20,
   "id": "01294709",
   "metadata": {},
   "outputs": [
    {
     "name": "stdout",
     "output_type": "stream",
     "text": [
      "Siddabattula\n"
     ]
    }
   ],
   "source": [
    "print(last_name)"
   ]
  },
  {
   "cell_type": "code",
   "execution_count": 21,
   "id": "0324959e",
   "metadata": {},
   "outputs": [
    {
     "name": "stdout",
     "output_type": "stream",
     "text": [
      "AkhilSiddabattula\n"
     ]
    }
   ],
   "source": [
    "print(first_name + last_name)"
   ]
  },
  {
   "cell_type": "code",
   "execution_count": 22,
   "id": "f8cc26a3",
   "metadata": {},
   "outputs": [
    {
     "name": "stdout",
     "output_type": "stream",
     "text": [
      "Akhil Siddabattula\n"
     ]
    }
   ],
   "source": [
    "print(first_name + \" \" + last_name)"
   ]
  },
  {
   "cell_type": "markdown",
   "id": "afba4c60",
   "metadata": {},
   "source": [
    "## String Methods"
   ]
  },
  {
   "cell_type": "markdown",
   "id": "70b93cbd",
   "metadata": {},
   "source": [
    "#### upper()\n",
    "- It will convert string from lower case to upper case"
   ]
  },
  {
   "cell_type": "code",
   "execution_count": 23,
   "id": "43b53a8e",
   "metadata": {},
   "outputs": [
    {
     "name": "stdout",
     "output_type": "stream",
     "text": [
      "Before:  Akhil Siddabattula\n",
      "After:  AKHIL SIDDABATTULA\n"
     ]
    }
   ],
   "source": [
    "print(\"Before: \", full_name)\n",
    "print(\"After: \", full_name.upper())"
   ]
  },
  {
   "cell_type": "markdown",
   "id": "4ea9ac89",
   "metadata": {},
   "source": [
    "#### lower()\n",
    "- It will convert string from upper case to lower case"
   ]
  },
  {
   "cell_type": "code",
   "execution_count": 24,
   "id": "c6931083",
   "metadata": {},
   "outputs": [
    {
     "name": "stdout",
     "output_type": "stream",
     "text": [
      "Before:  Akhil Siddabattula\n",
      "After:  akhil siddabattula\n"
     ]
    }
   ],
   "source": [
    "print(\"Before: \", full_name)\n",
    "print(\"After: \", full_name.lower())"
   ]
  },
  {
   "cell_type": "markdown",
   "id": "615a56b3",
   "metadata": {},
   "source": [
    "#### split()\n",
    "- I will divide the string into item and forms a list\n",
    "- By default it will divide by using space.\n",
    "- If you specify any character inside split, it will divide according to that character"
   ]
  },
  {
   "cell_type": "code",
   "execution_count": 25,
   "id": "32446929",
   "metadata": {},
   "outputs": [
    {
     "name": "stdout",
     "output_type": "stream",
     "text": [
      "Before:  Akhil Siddabattula\n",
      "After:  ['Akhil', 'Siddabattula']\n"
     ]
    }
   ],
   "source": [
    "print(\"Before: \", full_name)\n",
    "print(\"After: \", full_name.split())"
   ]
  },
  {
   "cell_type": "code",
   "execution_count": 26,
   "id": "33736699",
   "metadata": {},
   "outputs": [],
   "source": [
    "path = \"users/akhil/python\""
   ]
  },
  {
   "cell_type": "code",
   "execution_count": 27,
   "id": "1fc74dcc",
   "metadata": {},
   "outputs": [
    {
     "name": "stdout",
     "output_type": "stream",
     "text": [
      "Before:  users/akhil/python\n",
      "After:  ['users', 'akhil', 'python']\n"
     ]
    }
   ],
   "source": [
    "print(\"Before: \", path)\n",
    "print(\"After: \", path.split('/'))"
   ]
  },
  {
   "cell_type": "markdown",
   "id": "2811844d",
   "metadata": {},
   "source": [
    "#### len()\n",
    "- It will returns length of the string"
   ]
  },
  {
   "cell_type": "code",
   "execution_count": 28,
   "id": "f84e989b",
   "metadata": {},
   "outputs": [
    {
     "name": "stdout",
     "output_type": "stream",
     "text": [
      "String:  Akhil Siddabattula\n",
      "length:  18\n"
     ]
    }
   ],
   "source": [
    "print(\"String: \", full_name)\n",
    "print(\"length: \", len(full_name))"
   ]
  },
  {
   "cell_type": "markdown",
   "id": "52f28eaa",
   "metadata": {},
   "source": [
    "#### strip()\n",
    "- It will remove excess empty spaces from string"
   ]
  },
  {
   "cell_type": "code",
   "execution_count": 29,
   "id": "288992a3",
   "metadata": {},
   "outputs": [],
   "source": [
    "a = \"    Hello    \""
   ]
  },
  {
   "cell_type": "code",
   "execution_count": 30,
   "id": "b6335149",
   "metadata": {
    "scrolled": true
   },
   "outputs": [
    {
     "name": "stdout",
     "output_type": "stream",
     "text": [
      "Before:      Hello    \n",
      "After:  Hello\n"
     ]
    }
   ],
   "source": [
    "print(\"Before: \", a)\n",
    "print(\"After: \", a.strip())"
   ]
  },
  {
   "cell_type": "code",
   "execution_count": 31,
   "id": "90cb6880",
   "metadata": {},
   "outputs": [],
   "source": [
    "a = 'ttttttrwHellovvvvv'"
   ]
  },
  {
   "cell_type": "code",
   "execution_count": 32,
   "id": "65673eda",
   "metadata": {},
   "outputs": [
    {
     "name": "stdout",
     "output_type": "stream",
     "text": [
      "Before:  ttttttrwHellovvvvv\n",
      "After:  Hello\n"
     ]
    }
   ],
   "source": [
    "print(\"Before: \", a)\n",
    "print(\"After: \", a.strip(\"trwv\"))"
   ]
  },
  {
   "cell_type": "markdown",
   "id": "e602b132",
   "metadata": {},
   "source": [
    "### String Formatting\n",
    "- .format()"
   ]
  },
  {
   "cell_type": "code",
   "execution_count": 34,
   "id": "8de3741d",
   "metadata": {},
   "outputs": [
    {
     "name": "stdout",
     "output_type": "stream",
     "text": [
      "Hello, I'm Akhil Siddabattula\n"
     ]
    }
   ],
   "source": [
    "print(\"Hello, I'm {}\".format(full_name))"
   ]
  },
  {
   "cell_type": "code",
   "execution_count": 36,
   "id": "d81da5f5",
   "metadata": {},
   "outputs": [
    {
     "name": "stdout",
     "output_type": "stream",
     "text": [
      "Hello, I'm Akhil Siddabattula working as Junior Data Engineer at Vamstar\n"
     ]
    }
   ],
   "source": [
    "job = \"Junior Data Engineer\"\n",
    "company = \"Vamstar\"\n",
    "print(\"Hello, I'm {} working as {} at {}\".format(full_name, job, company))"
   ]
  },
  {
   "cell_type": "code",
   "execution_count": 37,
   "id": "1dfb3763",
   "metadata": {},
   "outputs": [
    {
     "name": "stdout",
     "output_type": "stream",
     "text": [
      "Hello, I'm Akhil Siddabattula working as Junior Data Engineer at Vamstar\n"
     ]
    }
   ],
   "source": [
    "print(\"Hello, I'm {a} working as {b} at {c}\".format(a=full_name, b=job, c=company))"
   ]
  },
  {
   "cell_type": "markdown",
   "id": "ae0ebe54",
   "metadata": {},
   "source": [
    "- f Strings"
   ]
  },
  {
   "cell_type": "code",
   "execution_count": 38,
   "id": "2b458243",
   "metadata": {},
   "outputs": [
    {
     "name": "stdout",
     "output_type": "stream",
     "text": [
      "Hello, I'm Akhil Siddabattula working as Junior Data Engineer at Vamstar\n"
     ]
    }
   ],
   "source": [
    "print(f\"Hello, I'm {full_name} working as {job} at {company}\")"
   ]
  }
 ],
 "metadata": {
  "kernelspec": {
   "display_name": "Python 3 (ipykernel)",
   "language": "python",
   "name": "python3"
  },
  "language_info": {
   "codemirror_mode": {
    "name": "ipython",
    "version": 3
   },
   "file_extension": ".py",
   "mimetype": "text/x-python",
   "name": "python",
   "nbconvert_exporter": "python",
   "pygments_lexer": "ipython3",
   "version": "3.9.13"
  }
 },
 "nbformat": 4,
 "nbformat_minor": 5
}
