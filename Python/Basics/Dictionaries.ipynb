{
 "cells": [
  {
   "cell_type": "markdown",
   "id": "64bd28f7",
   "metadata": {},
   "source": [
    "# Dictionaries\n",
    "- Python dictionary is an ordered collection of items.\n",
    "- Dictionaries are used to store data values in key:value pairs.\n",
    "- We can quickly retrieve the value by using key.\n",
    "- Dicitionaries are written in curly braces <code>{}</code>"
   ]
  },
  {
   "cell_type": "code",
   "execution_count": 11,
   "id": "6a6496ef",
   "metadata": {},
   "outputs": [],
   "source": [
    "prices = {\"apple\": 100, \"banana\": 40, \"orange\": 55}"
   ]
  },
  {
   "cell_type": "code",
   "execution_count": 2,
   "id": "a3557b7d",
   "metadata": {},
   "outputs": [
    {
     "name": "stdout",
     "output_type": "stream",
     "text": [
      "{'apple': 100, 'banana': 40, 'orange': 55}\n"
     ]
    }
   ],
   "source": [
    "print(prices)"
   ]
  },
  {
   "cell_type": "markdown",
   "id": "6de8f59f",
   "metadata": {},
   "source": [
    "- Accessing Items"
   ]
  },
  {
   "cell_type": "code",
   "execution_count": 3,
   "id": "547d1c82",
   "metadata": {},
   "outputs": [
    {
     "data": {
      "text/plain": [
       "100"
      ]
     },
     "execution_count": 3,
     "metadata": {},
     "output_type": "execute_result"
    }
   ],
   "source": [
    "prices[\"apple\"]"
   ]
  },
  {
   "cell_type": "code",
   "execution_count": 5,
   "id": "244d78b6",
   "metadata": {},
   "outputs": [
    {
     "data": {
      "text/plain": [
       "100"
      ]
     },
     "execution_count": 5,
     "metadata": {},
     "output_type": "execute_result"
    }
   ],
   "source": [
    "prices.get(\"apple\")"
   ]
  },
  {
   "cell_type": "code",
   "execution_count": 6,
   "id": "174a7b85",
   "metadata": {},
   "outputs": [
    {
     "data": {
      "text/plain": [
       "dict_keys(['apple', 'banana', 'orange'])"
      ]
     },
     "execution_count": 6,
     "metadata": {},
     "output_type": "execute_result"
    }
   ],
   "source": [
    "prices.keys()"
   ]
  },
  {
   "cell_type": "code",
   "execution_count": 7,
   "id": "41dbdc82",
   "metadata": {},
   "outputs": [
    {
     "data": {
      "text/plain": [
       "dict_values([100, 40, 55])"
      ]
     },
     "execution_count": 7,
     "metadata": {},
     "output_type": "execute_result"
    }
   ],
   "source": [
    "prices.values()"
   ]
  },
  {
   "cell_type": "code",
   "execution_count": 8,
   "id": "e0f02c9e",
   "metadata": {},
   "outputs": [
    {
     "data": {
      "text/plain": [
       "dict_items([('apple', 100), ('banana', 40), ('orange', 55)])"
      ]
     },
     "execution_count": 8,
     "metadata": {},
     "output_type": "execute_result"
    }
   ],
   "source": [
    "prices.items()"
   ]
  },
  {
   "cell_type": "code",
   "execution_count": 19,
   "id": "da8d63fb",
   "metadata": {},
   "outputs": [
    {
     "name": "stdout",
     "output_type": "stream",
     "text": [
      "{'isChecked': True, 'even': [2, 4, 6, 8, 10], 'data': {'name': 'akhil', 'age': 22}}\n"
     ]
    }
   ],
   "source": [
    "nums = {\"isChecked\": True, \"even\": [2, 4, 6, 8, 10], \"data\": {\"name\": \"akhil\", \"age\": 22}}\n",
    "print(nums)"
   ]
  },
  {
   "cell_type": "code",
   "execution_count": 20,
   "id": "dc5f6fe4",
   "metadata": {},
   "outputs": [
    {
     "name": "stdout",
     "output_type": "stream",
     "text": [
      "8\n"
     ]
    }
   ],
   "source": [
    "print(nums[\"even\"][3])"
   ]
  },
  {
   "cell_type": "code",
   "execution_count": 21,
   "id": "7672110a",
   "metadata": {},
   "outputs": [
    {
     "name": "stdout",
     "output_type": "stream",
     "text": [
      "akhil\n"
     ]
    }
   ],
   "source": [
    "print(nums[\"data\"][\"name\"])"
   ]
  },
  {
   "cell_type": "markdown",
   "id": "542affa4",
   "metadata": {},
   "source": [
    "- Change Items"
   ]
  },
  {
   "cell_type": "code",
   "execution_count": 12,
   "id": "5aa58575",
   "metadata": {},
   "outputs": [
    {
     "name": "stdout",
     "output_type": "stream",
     "text": [
      " Before: {'apple': 100, 'banana': 40, 'orange': 55}\n",
      " After: {'apple': 100, 'banana': 35, 'orange': 55}\n"
     ]
    }
   ],
   "source": [
    "print(f\" Before: {prices}\")\n",
    "prices['banana'] = 35\n",
    "print(f\" After: {prices}\")"
   ]
  },
  {
   "cell_type": "code",
   "execution_count": 13,
   "id": "dc1a43a7",
   "metadata": {},
   "outputs": [
    {
     "name": "stdout",
     "output_type": "stream",
     "text": [
      " Before: {'apple': 100, 'banana': 35, 'orange': 55}\n",
      " After: {'apple': 120, 'banana': 35, 'orange': 55}\n"
     ]
    }
   ],
   "source": [
    "print(f\" Before: {prices}\")\n",
    "prices['apple'] = 120\n",
    "print(f\" After: {prices}\")"
   ]
  },
  {
   "cell_type": "markdown",
   "id": "d8846cd7",
   "metadata": {},
   "source": [
    "- Add Items"
   ]
  },
  {
   "cell_type": "code",
   "execution_count": 15,
   "id": "d310c3b3",
   "metadata": {},
   "outputs": [
    {
     "name": "stdout",
     "output_type": "stream",
     "text": [
      " Before: {'apple': 120, 'banana': 35, 'orange': 55}\n",
      " After: {'apple': 120, 'banana': 35, 'orange': 55, 'grapes': 60}\n"
     ]
    }
   ],
   "source": [
    "print(f\" Before: {prices}\")\n",
    "prices['grapes'] = 60\n",
    "print(f\" After: {prices}\")"
   ]
  },
  {
   "cell_type": "markdown",
   "id": "6c970d6c",
   "metadata": {},
   "source": [
    "- Remove Item\n"
   ]
  },
  {
   "cell_type": "code",
   "execution_count": 22,
   "id": "9fd8bc6b",
   "metadata": {},
   "outputs": [
    {
     "name": "stdout",
     "output_type": "stream",
     "text": [
      " Before: {'apple': 120, 'banana': 35, 'orange': 55, 'grapes': 60}\n",
      " After: {'apple': 120, 'banana': 35, 'orange': 55}\n"
     ]
    }
   ],
   "source": [
    "print(f\" Before: {prices}\")\n",
    "del prices['grapes']\n",
    "print(f\" After: {prices}\")"
   ]
  },
  {
   "cell_type": "code",
   "execution_count": 23,
   "id": "8a7b2664",
   "metadata": {},
   "outputs": [
    {
     "name": "stdout",
     "output_type": "stream",
     "text": [
      " Before: {'apple': 120, 'banana': 35, 'orange': 55}\n",
      " After: {'banana': 35, 'orange': 55}\n"
     ]
    }
   ],
   "source": [
    "print(f\" Before: {prices}\")\n",
    "prices.pop('apple')\n",
    "print(f\" After: {prices}\")"
   ]
  },
  {
   "cell_type": "code",
   "execution_count": 24,
   "id": "e6d7366c",
   "metadata": {},
   "outputs": [
    {
     "name": "stdout",
     "output_type": "stream",
     "text": [
      " Before: {'banana': 35, 'orange': 55}\n",
      " After: {}\n"
     ]
    }
   ],
   "source": [
    "print(f\" Before: {prices}\")\n",
    "prices.clear()\n",
    "print(f\" After: {prices}\")"
   ]
  },
  {
   "cell_type": "code",
   "execution_count": 25,
   "id": "9539cc4e",
   "metadata": {},
   "outputs": [
    {
     "name": "stdout",
     "output_type": "stream",
     "text": [
      " Before: {}\n"
     ]
    },
    {
     "ename": "NameError",
     "evalue": "name 'prices' is not defined",
     "output_type": "error",
     "traceback": [
      "\u001b[1;31m---------------------------------------------------------------------------\u001b[0m",
      "\u001b[1;31mNameError\u001b[0m                                 Traceback (most recent call last)",
      "\u001b[1;32m~\\AppData\\Local\\Temp\\ipykernel_16772\\2526966490.py\u001b[0m in \u001b[0;36m<module>\u001b[1;34m\u001b[0m\n\u001b[0;32m      1\u001b[0m \u001b[0mprint\u001b[0m\u001b[1;33m(\u001b[0m\u001b[1;34mf\" Before: {prices}\"\u001b[0m\u001b[1;33m)\u001b[0m\u001b[1;33m\u001b[0m\u001b[1;33m\u001b[0m\u001b[0m\n\u001b[0;32m      2\u001b[0m \u001b[1;32mdel\u001b[0m \u001b[0mprices\u001b[0m\u001b[1;33m\u001b[0m\u001b[1;33m\u001b[0m\u001b[0m\n\u001b[1;32m----> 3\u001b[1;33m \u001b[0mprint\u001b[0m\u001b[1;33m(\u001b[0m\u001b[1;34mf\" After: {prices}\"\u001b[0m\u001b[1;33m)\u001b[0m\u001b[1;33m\u001b[0m\u001b[1;33m\u001b[0m\u001b[0m\n\u001b[0m",
      "\u001b[1;31mNameError\u001b[0m: name 'prices' is not defined"
     ]
    }
   ],
   "source": [
    "print(f\" Before: {prices}\")\n",
    "del prices\n",
    "print(f\" After: {prices}\")"
   ]
  },
  {
   "cell_type": "code",
   "execution_count": null,
   "id": "af1311d5",
   "metadata": {},
   "outputs": [],
   "source": []
  }
 ],
 "metadata": {
  "kernelspec": {
   "display_name": "Python 3 (ipykernel)",
   "language": "python",
   "name": "python3"
  },
  "language_info": {
   "codemirror_mode": {
    "name": "ipython",
    "version": 3
   },
   "file_extension": ".py",
   "mimetype": "text/x-python",
   "name": "python",
   "nbconvert_exporter": "python",
   "pygments_lexer": "ipython3",
   "version": "3.9.13"
  }
 },
 "nbformat": 4,
 "nbformat_minor": 5
}
