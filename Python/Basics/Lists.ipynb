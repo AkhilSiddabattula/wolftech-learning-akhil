{
 "cells": [
  {
   "cell_type": "markdown",
   "id": "12324f8b",
   "metadata": {},
   "source": [
    "### LISTS\n",
    "- Lists are used to store multiple items in a single variable. \n",
    "- Lists are one of 4 built-in data types in Python\n",
    "- Lists allow duplicate items\n",
    "- Lists allow all data type items"
   ]
  },
  {
   "cell_type": "code",
   "execution_count": 1,
   "id": "a311eea8",
   "metadata": {},
   "outputs": [
    {
     "name": "stdout",
     "output_type": "stream",
     "text": [
      "[1, 2, 3, 4, 5]\n"
     ]
    }
   ],
   "source": [
    "num = [1, 2, 3, 4, 5]\n",
    "print(num)"
   ]
  },
  {
   "cell_type": "markdown",
   "id": "7c2e2d36",
   "metadata": {},
   "source": [
    "### len() \n",
    "- It is used to get number of items present in the list "
   ]
  },
  {
   "cell_type": "code",
   "execution_count": 2,
   "id": "a666d254",
   "metadata": {},
   "outputs": [
    {
     "name": "stdout",
     "output_type": "stream",
     "text": [
      "5\n"
     ]
    }
   ],
   "source": [
    "print(len(num))"
   ]
  },
  {
   "cell_type": "markdown",
   "id": "d092b31c",
   "metadata": {},
   "source": [
    "### Access Items\n",
    "- List items are indexed and you can access them by referring to the index number \n",
    "- First item has index 0"
   ]
  },
  {
   "cell_type": "code",
   "execution_count": 3,
   "id": "e8f0927b",
   "metadata": {},
   "outputs": [
    {
     "name": "stdout",
     "output_type": "stream",
     "text": [
      "2\n"
     ]
    }
   ],
   "source": [
    "print(num[1])"
   ]
  },
  {
   "cell_type": "code",
   "execution_count": 4,
   "id": "37c88333",
   "metadata": {},
   "outputs": [
    {
     "name": "stdout",
     "output_type": "stream",
     "text": [
      "5\n"
     ]
    }
   ],
   "source": [
    "print(num[-1])"
   ]
  },
  {
   "cell_type": "markdown",
   "id": "9378f196",
   "metadata": {},
   "source": [
    "### Range of Indexes\n",
    "- [start range : end range]\n",
    "- start range index is included and end range index is not included in the search"
   ]
  },
  {
   "cell_type": "code",
   "execution_count": 5,
   "id": "e0c5aa6d",
   "metadata": {},
   "outputs": [
    {
     "name": "stdout",
     "output_type": "stream",
     "text": [
      "[2, 3, 4]\n"
     ]
    }
   ],
   "source": [
    "print(num[1:4])"
   ]
  },
  {
   "cell_type": "code",
   "execution_count": 6,
   "id": "09086880",
   "metadata": {},
   "outputs": [
    {
     "name": "stdout",
     "output_type": "stream",
     "text": [
      "[3, 4]\n"
     ]
    }
   ],
   "source": [
    "print(num[2:4])"
   ]
  },
  {
   "cell_type": "markdown",
   "id": "927904a3",
   "metadata": {},
   "source": [
    "- By leaving out the start value, the range will start at the first item"
   ]
  },
  {
   "cell_type": "code",
   "execution_count": 7,
   "id": "48d37790",
   "metadata": {},
   "outputs": [
    {
     "name": "stdout",
     "output_type": "stream",
     "text": [
      "[1, 2, 3]\n"
     ]
    }
   ],
   "source": [
    "print(num[:3])"
   ]
  },
  {
   "cell_type": "markdown",
   "id": "63eca1e8",
   "metadata": {},
   "source": [
    "- By leaving out the end value, the range will go on to the end of the list"
   ]
  },
  {
   "cell_type": "code",
   "execution_count": 8,
   "id": "46c7a9be",
   "metadata": {},
   "outputs": [
    {
     "name": "stdout",
     "output_type": "stream",
     "text": [
      "[3, 4, 5]\n"
     ]
    }
   ],
   "source": [
    "print(num[2:])"
   ]
  },
  {
   "cell_type": "markdown",
   "id": "d4597069",
   "metadata": {},
   "source": [
    "### Check if Item Exists\n"
   ]
  },
  {
   "cell_type": "code",
   "execution_count": 9,
   "id": "8d4dc9c2",
   "metadata": {},
   "outputs": [
    {
     "name": "stdout",
     "output_type": "stream",
     "text": [
      "Exist\n"
     ]
    }
   ],
   "source": [
    "if 3 in num:\n",
    "    print(\"Exist\")\n",
    "else:\n",
    "    print(\"Not Exist\")"
   ]
  },
  {
   "cell_type": "code",
   "execution_count": 10,
   "id": "c9188095",
   "metadata": {},
   "outputs": [
    {
     "name": "stdout",
     "output_type": "stream",
     "text": [
      "Not Exist\n"
     ]
    }
   ],
   "source": [
    "if 7 in num:\n",
    "    print(\"Exist\")\n",
    "else:\n",
    "    print(\"Not Exist\")"
   ]
  },
  {
   "cell_type": "markdown",
   "id": "8ab8491f",
   "metadata": {},
   "source": [
    "### Add Items\n",
    "- To add an item to the end of the list, use the append() method"
   ]
  },
  {
   "cell_type": "code",
   "execution_count": 11,
   "id": "c9c382de",
   "metadata": {},
   "outputs": [
    {
     "name": "stdout",
     "output_type": "stream",
     "text": [
      "Before [1, 2, 3, 4, 5]\n",
      "After [1, 2, 3, 4, 5, 6]\n"
     ]
    }
   ],
   "source": [
    "print(\"Before\", num)\n",
    "# adding 6 to the end of the list\n",
    "num.append(6)\n",
    "print(\"After\", num)"
   ]
  },
  {
   "cell_type": "markdown",
   "id": "43f52e2b",
   "metadata": {},
   "source": [
    "### Insert Items\n",
    "- To insert a list item at a specified index, use the insert() method\n",
    "- insert(index, value)"
   ]
  },
  {
   "cell_type": "code",
   "execution_count": 12,
   "id": "4e1c136d",
   "metadata": {},
   "outputs": [
    {
     "name": "stdout",
     "output_type": "stream",
     "text": [
      "Before [1, 2, 3, 4, 5, 6]\n",
      "After [0, 1, 2, 3, 4, 5, 6]\n"
     ]
    }
   ],
   "source": [
    "print(\"Before\", num)\n",
    "# insering 0 at index 0\n",
    "num.insert(0, 0)\n",
    "print(\"After\", num)"
   ]
  },
  {
   "cell_type": "markdown",
   "id": "477f558c",
   "metadata": {},
   "source": [
    "### Extend List\n",
    "- To append elements from another list to the current list, use the extend() method"
   ]
  },
  {
   "cell_type": "code",
   "execution_count": 13,
   "id": "a2243ab0",
   "metadata": {},
   "outputs": [
    {
     "name": "stdout",
     "output_type": "stream",
     "text": [
      "[0, 1, 2, 3, 4, 5, 6, 7, 8, 9, 10]\n"
     ]
    }
   ],
   "source": [
    "num_2 = [7, 8, 9, 10]\n",
    "num.extend(num_2)\n",
    "print(num)"
   ]
  },
  {
   "cell_type": "markdown",
   "id": "5b844298",
   "metadata": {},
   "source": [
    "### Remove Item\n",
    "- The remove() method removes the specified item from the list."
   ]
  },
  {
   "cell_type": "code",
   "execution_count": 14,
   "id": "838fa4b2",
   "metadata": {},
   "outputs": [
    {
     "name": "stdout",
     "output_type": "stream",
     "text": [
      "Before [0, 1, 2, 3, 4, 5, 6, 7, 8, 9, 10]\n",
      "After [1, 2, 3, 4, 5, 6, 7, 8, 9, 10]\n"
     ]
    }
   ],
   "source": [
    "print(\"Before\", num)\n",
    "# removing 0 from the list\n",
    "num.remove(0)\n",
    "print(\"After\", num)"
   ]
  },
  {
   "cell_type": "markdown",
   "id": "ac3c1af0",
   "metadata": {},
   "source": [
    "- The pop() method remove last item from the list"
   ]
  },
  {
   "cell_type": "code",
   "execution_count": 15,
   "id": "70ce7927",
   "metadata": {},
   "outputs": [
    {
     "name": "stdout",
     "output_type": "stream",
     "text": [
      "Before [1, 2, 3, 4, 5, 6, 7, 8, 9, 10]\n",
      "After [1, 2, 3, 4, 5, 6, 7, 8, 9]\n"
     ]
    }
   ],
   "source": [
    "print(\"Before\", num)\n",
    "num.pop()\n",
    "print(\"After\", num)"
   ]
  },
  {
   "cell_type": "markdown",
   "id": "3ea80dff",
   "metadata": {},
   "source": [
    "- If you specify index in pop(index) method it will remove that specific index item"
   ]
  },
  {
   "cell_type": "code",
   "execution_count": 16,
   "id": "bed3b4bf",
   "metadata": {},
   "outputs": [
    {
     "name": "stdout",
     "output_type": "stream",
     "text": [
      "Before [1, 2, 3, 4, 5, 6, 7, 8, 9]\n",
      "After [1, 2, 3, 4, 5, 7, 8, 9]\n"
     ]
    }
   ],
   "source": [
    "print(\"Before\", num)\n",
    "num.pop(5)\n",
    "print(\"After\", num)"
   ]
  },
  {
   "cell_type": "markdown",
   "id": "422a6160",
   "metadata": {},
   "source": [
    "- The del keyword also removes the specified index"
   ]
  },
  {
   "cell_type": "code",
   "execution_count": 18,
   "id": "fbd31373",
   "metadata": {},
   "outputs": [
    {
     "name": "stdout",
     "output_type": "stream",
     "text": [
      "Before [1, 2, 3, 4, 5, 7, 8, 9]\n",
      "After [1, 2, 4, 5, 7, 8, 9]\n"
     ]
    }
   ],
   "source": [
    "print(\"Before\", num)\n",
    "del num[2]\n",
    "print(\"After\", num)"
   ]
  },
  {
   "cell_type": "markdown",
   "id": "4deaf135",
   "metadata": {},
   "source": [
    "- If you don't specified index, it will delete complete list"
   ]
  },
  {
   "cell_type": "code",
   "execution_count": 20,
   "id": "9053aeea",
   "metadata": {},
   "outputs": [],
   "source": [
    "del num"
   ]
  },
  {
   "cell_type": "code",
   "execution_count": 21,
   "id": "155eac8a",
   "metadata": {},
   "outputs": [
    {
     "ename": "NameError",
     "evalue": "name 'num' is not defined",
     "output_type": "error",
     "traceback": [
      "\u001b[1;31m---------------------------------------------------------------------------\u001b[0m",
      "\u001b[1;31mNameError\u001b[0m                                 Traceback (most recent call last)",
      "\u001b[1;32m~\\AppData\\Local\\Temp\\ipykernel_13492\\1167458927.py\u001b[0m in \u001b[0;36m<module>\u001b[1;34m\u001b[0m\n\u001b[1;32m----> 1\u001b[1;33m \u001b[0mnum\u001b[0m\u001b[1;33m\u001b[0m\u001b[1;33m\u001b[0m\u001b[0m\n\u001b[0m",
      "\u001b[1;31mNameError\u001b[0m: name 'num' is not defined"
     ]
    }
   ],
   "source": [
    "num"
   ]
  },
  {
   "cell_type": "code",
   "execution_count": 22,
   "id": "af5b1706",
   "metadata": {},
   "outputs": [],
   "source": [
    "num = [1, 2, 3, 4, 5, 7, 8, 9]"
   ]
  },
  {
   "cell_type": "markdown",
   "id": "a8805e8e",
   "metadata": {},
   "source": [
    "- The clear() method will remove all items in list, but list still remains"
   ]
  },
  {
   "cell_type": "code",
   "execution_count": 23,
   "id": "058ca458",
   "metadata": {},
   "outputs": [
    {
     "name": "stdout",
     "output_type": "stream",
     "text": [
      "Before [1, 2, 3, 4, 5, 7, 8, 9]\n",
      "After []\n"
     ]
    }
   ],
   "source": [
    "print(\"Before\", num)\n",
    "num.clear()\n",
    "print(\"After\", num)"
   ]
  },
  {
   "cell_type": "markdown",
   "id": "36981a71",
   "metadata": {},
   "source": [
    "### Loop Through a List"
   ]
  },
  {
   "cell_type": "code",
   "execution_count": 26,
   "id": "ac35f8d5",
   "metadata": {},
   "outputs": [
    {
     "name": "stdout",
     "output_type": "stream",
     "text": [
      "['CSE', 'EEE', 'MECHANICAL', 'ECE', 'CIVIL']\n"
     ]
    }
   ],
   "source": [
    "branches = ['CSE', 'EEE', 'MECHANICAL', 'ECE', 'CIVIL']\n",
    "print(branches)"
   ]
  },
  {
   "cell_type": "code",
   "execution_count": 28,
   "id": "d89d96cf",
   "metadata": {},
   "outputs": [
    {
     "name": "stdout",
     "output_type": "stream",
     "text": [
      "I'm from CSE branch.\n",
      "I'm from EEE branch.\n",
      "I'm from MECHANICAL branch.\n",
      "I'm from ECE branch.\n",
      "I'm from CIVIL branch.\n"
     ]
    }
   ],
   "source": [
    "for branch in branches:\n",
    "    print(f\"I'm from {branch} branch.\")"
   ]
  },
  {
   "cell_type": "markdown",
   "id": "a53e290b",
   "metadata": {},
   "source": [
    "### Loop Through the Index Numbers"
   ]
  },
  {
   "cell_type": "code",
   "execution_count": 29,
   "id": "1f104db8",
   "metadata": {},
   "outputs": [
    {
     "name": "stdout",
     "output_type": "stream",
     "text": [
      "I'm from CSE branch.\n",
      "I'm from EEE branch.\n",
      "I'm from MECHANICAL branch.\n",
      "I'm from ECE branch.\n",
      "I'm from CIVIL branch.\n"
     ]
    }
   ],
   "source": [
    "for i in range(len(branches)):\n",
    "    print(f\"I'm from {branches[i]} branch.\")"
   ]
  },
  {
   "cell_type": "markdown",
   "id": "ec83bfcb",
   "metadata": {},
   "source": [
    "### Looping Using List Comprehension\n",
    "- List Comprehension offers the shortest syntax for looping through lists"
   ]
  },
  {
   "cell_type": "code",
   "execution_count": 33,
   "id": "884ca329",
   "metadata": {},
   "outputs": [
    {
     "name": "stdout",
     "output_type": "stream",
     "text": [
      "CSE\n",
      "EEE\n",
      "MECHANICAL\n",
      "ECE\n",
      "CIVIL\n"
     ]
    },
    {
     "data": {
      "text/plain": [
       "[None, None, None, None, None]"
      ]
     },
     "execution_count": 33,
     "metadata": {},
     "output_type": "execute_result"
    }
   ],
   "source": [
    "[print(branch) for branch in branches]"
   ]
  },
  {
   "cell_type": "markdown",
   "id": "709ddf65",
   "metadata": {},
   "source": [
    "### Sort List\n",
    "- sort() method that will sort the list alphanumerically, ascending, by default"
   ]
  },
  {
   "cell_type": "code",
   "execution_count": 34,
   "id": "dfe6d176",
   "metadata": {},
   "outputs": [
    {
     "name": "stdout",
     "output_type": "stream",
     "text": [
      "['orange', 'mango', 'kiwi', 'pineapple', 'banana']\n"
     ]
    }
   ],
   "source": [
    "fruits = [\"orange\", \"mango\", \"kiwi\", \"pineapple\", \"banana\"]\n",
    "print(fruits)"
   ]
  },
  {
   "cell_type": "code",
   "execution_count": 36,
   "id": "4e0d61f2",
   "metadata": {},
   "outputs": [
    {
     "name": "stdout",
     "output_type": "stream",
     "text": [
      "Before:  ['banana', 'kiwi', 'mango', 'orange', 'pineapple']\n",
      "After:  ['banana', 'kiwi', 'mango', 'orange', 'pineapple']\n"
     ]
    }
   ],
   "source": [
    "print(\"Before: \", fruits)\n",
    "fruits.sort()\n",
    "print(\"After: \", fruits)"
   ]
  },
  {
   "cell_type": "code",
   "execution_count": 37,
   "id": "f84a6c72",
   "metadata": {},
   "outputs": [
    {
     "name": "stdout",
     "output_type": "stream",
     "text": [
      "[100, 50, 65, 82, 23]\n"
     ]
    }
   ],
   "source": [
    "numbers = [100, 50, 65, 82, 23]\n",
    "print(numbers)"
   ]
  },
  {
   "cell_type": "code",
   "execution_count": 38,
   "id": "98500d81",
   "metadata": {},
   "outputs": [
    {
     "name": "stdout",
     "output_type": "stream",
     "text": [
      "Before:  [100, 50, 65, 82, 23]\n",
      "After:  [23, 50, 65, 82, 100]\n"
     ]
    }
   ],
   "source": [
    "print(\"Before: \", numbers)\n",
    "numbers.sort()\n",
    "print(\"After: \", numbers)"
   ]
  },
  {
   "cell_type": "markdown",
   "id": "87761ffa",
   "metadata": {},
   "source": [
    "### Sort Descending\n",
    "- To sort descending, use the keyword argument `reverse = True`"
   ]
  },
  {
   "cell_type": "code",
   "execution_count": 39,
   "id": "53338332",
   "metadata": {},
   "outputs": [
    {
     "name": "stdout",
     "output_type": "stream",
     "text": [
      "Before:  ['banana', 'kiwi', 'mango', 'orange', 'pineapple']\n",
      "After:  ['pineapple', 'orange', 'mango', 'kiwi', 'banana']\n"
     ]
    }
   ],
   "source": [
    "print(\"Before: \", fruits)\n",
    "fruits.sort(reverse = True)\n",
    "print(\"After: \", fruits)"
   ]
  },
  {
   "cell_type": "code",
   "execution_count": 40,
   "id": "00f3b557",
   "metadata": {},
   "outputs": [
    {
     "name": "stdout",
     "output_type": "stream",
     "text": [
      "Before:  [23, 50, 65, 82, 100]\n",
      "After:  [100, 82, 65, 50, 23]\n"
     ]
    }
   ],
   "source": [
    "print(\"Before: \", numbers)\n",
    "numbers.sort(reverse = True)\n",
    "print(\"After: \", numbers)"
   ]
  },
  {
   "cell_type": "markdown",
   "id": "5e01348d",
   "metadata": {},
   "source": [
    "### Case Insensitive Sort\n",
    "- By default the sort() method is case sensitive, resulting in all capital letters being sorted before lower case letters"
   ]
  },
  {
   "cell_type": "code",
   "execution_count": 43,
   "id": "7e352746",
   "metadata": {},
   "outputs": [
    {
     "name": "stdout",
     "output_type": "stream",
     "text": [
      "['Kiwi', 'Orange', 'banana', 'cherry']\n"
     ]
    }
   ],
   "source": [
    "f = [\"banana\", \"Orange\", \"Kiwi\", \"cherry\"]\n",
    "f.sort()\n",
    "print(f)"
   ]
  },
  {
   "cell_type": "code",
   "execution_count": 44,
   "id": "d8485954",
   "metadata": {},
   "outputs": [
    {
     "name": "stdout",
     "output_type": "stream",
     "text": [
      "['banana', 'cherry', 'Kiwi', 'Orange']\n"
     ]
    }
   ],
   "source": [
    "f.sort(key = str.lower)\n",
    "print(f)"
   ]
  },
  {
   "cell_type": "markdown",
   "id": "68e0b2e7",
   "metadata": {},
   "source": [
    "### Reverse Order\n",
    "- The reverse() method reverses the current sorting order of the elements."
   ]
  },
  {
   "cell_type": "code",
   "execution_count": 45,
   "id": "f7d6dcfc",
   "metadata": {},
   "outputs": [
    {
     "name": "stdout",
     "output_type": "stream",
     "text": [
      "Before:  ['banana', 'cherry', 'Kiwi', 'Orange']\n",
      "After:  ['Orange', 'Kiwi', 'cherry', 'banana']\n"
     ]
    }
   ],
   "source": [
    "print(\"Before: \", f)\n",
    "f.reverse()\n",
    "print(\"After: \", f)"
   ]
  }
 ],
 "metadata": {
  "kernelspec": {
   "display_name": "Python 3 (ipykernel)",
   "language": "python",
   "name": "python3"
  },
  "language_info": {
   "codemirror_mode": {
    "name": "ipython",
    "version": 3
   },
   "file_extension": ".py",
   "mimetype": "text/x-python",
   "name": "python",
   "nbconvert_exporter": "python",
   "pygments_lexer": "ipython3",
   "version": "3.9.13"
  }
 },
 "nbformat": 4,
 "nbformat_minor": 5
}
