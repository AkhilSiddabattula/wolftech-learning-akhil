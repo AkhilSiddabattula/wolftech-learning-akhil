{
 "cells": [
  {
   "cell_type": "markdown",
   "id": "98fbda59",
   "metadata": {},
   "source": [
    "### Variables\n",
    "- Variables are containers for storing data values.\n",
    "- Python has no command for declaring a variable.\n",
    "- A variable is created the moment you first assign a value to it."
   ]
  },
  {
   "cell_type": "code",
   "execution_count": 2,
   "id": "27a9ff79",
   "metadata": {},
   "outputs": [
    {
     "name": "stdout",
     "output_type": "stream",
     "text": [
      "Akhil\n",
      "Siddabattula\n"
     ]
    }
   ],
   "source": [
    "firstName = 'Akhil'\n",
    "lastName = 'Siddabattula'\n",
    "print(firstName)\n",
    "print(lastName)"
   ]
  },
  {
   "cell_type": "markdown",
   "id": "2a455447",
   "metadata": {},
   "source": [
    "- Variables do not need to be declared with any particular type, and can even change type after they have been set."
   ]
  },
  {
   "cell_type": "code",
   "execution_count": 3,
   "id": "b8bf7bb0",
   "metadata": {},
   "outputs": [
    {
     "name": "stdout",
     "output_type": "stream",
     "text": [
      "5\n"
     ]
    }
   ],
   "source": [
    "x = \"Hello\"\n",
    "x = 5\n",
    "print(x)"
   ]
  },
  {
   "cell_type": "markdown",
   "id": "8cea0768",
   "metadata": {},
   "source": [
    "- We can get the data type of a variable with the type() function."
   ]
  },
  {
   "cell_type": "code",
   "execution_count": 7,
   "id": "1af28dd2",
   "metadata": {},
   "outputs": [],
   "source": [
    "a = 50674\n",
    "b = 16.23\n",
    "c = \"Hello World\"\n",
    "d = True"
   ]
  },
  {
   "cell_type": "code",
   "execution_count": 8,
   "id": "d2e5ba65",
   "metadata": {},
   "outputs": [
    {
     "name": "stdout",
     "output_type": "stream",
     "text": [
      "50674 <class 'int'>\n",
      "16.23 <class 'float'>\n",
      "Hello World <class 'str'>\n",
      "True <class 'bool'>\n"
     ]
    }
   ],
   "source": [
    "print(a, type(a))\n",
    "print(b, type(b))\n",
    "print(c, type(c))\n",
    "print(d, type(d))"
   ]
  },
  {
   "cell_type": "markdown",
   "id": "c595a404",
   "metadata": {},
   "source": [
    "- If you want to specify the data type of a variable, this can be done with casting."
   ]
  },
  {
   "cell_type": "code",
   "execution_count": 9,
   "id": "a56f56ab",
   "metadata": {},
   "outputs": [],
   "source": [
    "x = str(3)\n",
    "y = int(3)\n",
    "z = float(3)"
   ]
  },
  {
   "cell_type": "code",
   "execution_count": 10,
   "id": "cfea5af5",
   "metadata": {},
   "outputs": [
    {
     "name": "stdout",
     "output_type": "stream",
     "text": [
      "3 <class 'str'>\n",
      "3 <class 'int'>\n",
      "3.0 <class 'float'>\n"
     ]
    }
   ],
   "source": [
    "print(x, type(x))\n",
    "print(y, type(y))\n",
    "print(z, type(z))"
   ]
  },
  {
   "cell_type": "markdown",
   "id": "5f2dc2b1",
   "metadata": {},
   "source": [
    "- varibales names are case-sensitive in python"
   ]
  },
  {
   "cell_type": "code",
   "execution_count": 14,
   "id": "456f2c97",
   "metadata": {},
   "outputs": [],
   "source": [
    "a = 12\n",
    "A = True\n",
    "# a will not overwrite A"
   ]
  },
  {
   "cell_type": "code",
   "execution_count": 15,
   "id": "fa54d0a3",
   "metadata": {},
   "outputs": [
    {
     "name": "stdout",
     "output_type": "stream",
     "text": [
      "12\n",
      "True\n"
     ]
    }
   ],
   "source": [
    "print(a)\n",
    "print(A)"
   ]
  },
  {
   "cell_type": "markdown",
   "id": "2b0115f2",
   "metadata": {},
   "source": [
    "- Python allows you to assign values to multiple variables in one line"
   ]
  },
  {
   "cell_type": "code",
   "execution_count": 16,
   "id": "c833bc55",
   "metadata": {},
   "outputs": [],
   "source": [
    "firstName, middleName, lastName = \"Akhil\", \"Kumar\", \"Siddabattula\""
   ]
  },
  {
   "cell_type": "code",
   "execution_count": 18,
   "id": "b8fd2f81",
   "metadata": {},
   "outputs": [
    {
     "name": "stdout",
     "output_type": "stream",
     "text": [
      "Akhil\n",
      "Kumar\n",
      "Siddabattula\n"
     ]
    }
   ],
   "source": [
    "print(firstName)\n",
    "print(middleName)\n",
    "print(lastName)"
   ]
  },
  {
   "cell_type": "markdown",
   "id": "fa8c15b0",
   "metadata": {},
   "source": [
    "- You can print multiple varibales in one print() function by seperating each varibale with comma."
   ]
  },
  {
   "cell_type": "code",
   "execution_count": 19,
   "id": "21849617",
   "metadata": {},
   "outputs": [
    {
     "name": "stdout",
     "output_type": "stream",
     "text": [
      "Akhil Kumar Siddabattula\n"
     ]
    }
   ],
   "source": [
    "print(firstName, middleName, lastName)"
   ]
  },
  {
   "cell_type": "code",
   "execution_count": null,
   "id": "3c05292a",
   "metadata": {},
   "outputs": [],
   "source": []
  }
 ],
 "metadata": {
  "kernelspec": {
   "display_name": "Python 3 (ipykernel)",
   "language": "python",
   "name": "python3"
  },
  "language_info": {
   "codemirror_mode": {
    "name": "ipython",
    "version": 3
   },
   "file_extension": ".py",
   "mimetype": "text/x-python",
   "name": "python",
   "nbconvert_exporter": "python",
   "pygments_lexer": "ipython3",
   "version": "3.9.13"
  }
 },
 "nbformat": 4,
 "nbformat_minor": 5
}
