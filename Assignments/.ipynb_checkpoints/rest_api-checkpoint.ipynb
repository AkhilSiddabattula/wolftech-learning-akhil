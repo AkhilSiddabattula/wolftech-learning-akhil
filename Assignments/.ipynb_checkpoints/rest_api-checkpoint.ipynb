{
 "cells": [
  {
   "cell_type": "markdown",
   "id": "6a6759c5",
   "metadata": {},
   "source": [
    "### REST API"
   ]
  },
  {
   "cell_type": "code",
   "execution_count": 1,
   "id": "8769ee15",
   "metadata": {},
   "outputs": [],
   "source": [
    "import requests as re\n",
    "import json"
   ]
  },
  {
   "cell_type": "markdown",
   "id": "256f4bf7",
   "metadata": {},
   "source": [
    "- Making request to api"
   ]
  },
  {
   "cell_type": "code",
   "execution_count": 2,
   "id": "045b3d26",
   "metadata": {},
   "outputs": [],
   "source": [
    "api = \"https://jsonplaceholder.typicode.com/todos/1\"\n",
    "response = re.get(api)"
   ]
  },
  {
   "cell_type": "markdown",
   "id": "35b3ec3f",
   "metadata": {},
   "source": [
    "- Viewing data in json format"
   ]
  },
  {
   "cell_type": "code",
   "execution_count": 3,
   "id": "d3bdb360",
   "metadata": {},
   "outputs": [
    {
     "name": "stdout",
     "output_type": "stream",
     "text": [
      "{'userId': 1, 'id': 1, 'title': 'delectus aut autem', 'completed': False}\n"
     ]
    }
   ],
   "source": [
    "print(response.json())"
   ]
  },
  {
   "cell_type": "markdown",
   "id": "125ef0f3",
   "metadata": {},
   "source": [
    "- Getting status code"
   ]
  },
  {
   "cell_type": "code",
   "execution_count": 4,
   "id": "8c4c7e2c",
   "metadata": {},
   "outputs": [
    {
     "name": "stdout",
     "output_type": "stream",
     "text": [
      "200\n"
     ]
    }
   ],
   "source": [
    "print(response.status_code)"
   ]
  },
  {
   "cell_type": "markdown",
   "id": "0f4ad80d",
   "metadata": {},
   "source": [
    "- Getting headers"
   ]
  },
  {
   "cell_type": "code",
   "execution_count": 5,
   "id": "cfa86e59",
   "metadata": {},
   "outputs": [
    {
     "name": "stdout",
     "output_type": "stream",
     "text": [
      "application/json; charset=utf-8\n"
     ]
    }
   ],
   "source": [
    "print(response.headers[\"Content-Type\"])"
   ]
  },
  {
   "cell_type": "markdown",
   "id": "3b8eecf0",
   "metadata": {},
   "source": [
    "- posting data to api"
   ]
  },
  {
   "cell_type": "code",
   "execution_count": 10,
   "id": "8bd940bf",
   "metadata": {},
   "outputs": [
    {
     "name": "stdout",
     "output_type": "stream",
     "text": [
      "200\n",
      "{'userId': 1, 'title': 'Wash car', 'completed': True, 'id': 1}\n"
     ]
    }
   ],
   "source": [
    "todo = {\"userId\": 1, \"title\": \"Wash car\", \"completed\": True}\n",
    "response = re.put(api, json=todo)\n",
    "print(response.status_code)\n",
    "print(response.json())"
   ]
  },
  {
   "cell_type": "markdown",
   "id": "ce2c8d32",
   "metadata": {},
   "source": [
    "- updating data"
   ]
  },
  {
   "cell_type": "code",
   "execution_count": 11,
   "id": "8af254e7",
   "metadata": {},
   "outputs": [
    {
     "name": "stdout",
     "output_type": "stream",
     "text": [
      "200\n",
      "{'userId': 1, 'id': 1, 'title': 'Mow lawn', 'completed': False}\n"
     ]
    }
   ],
   "source": [
    "todo = {\"title\": \"Mow lawn\"}\n",
    "response = re.patch(api, json=todo)\n",
    "print(response.status_code)\n",
    "print(response.json())"
   ]
  },
  {
   "cell_type": "markdown",
   "id": "04246591",
   "metadata": {},
   "source": [
    "- delete"
   ]
  },
  {
   "cell_type": "code",
   "execution_count": 12,
   "id": "2bc7886b",
   "metadata": {},
   "outputs": [
    {
     "data": {
      "text/plain": [
       "{}"
      ]
     },
     "execution_count": 12,
     "metadata": {},
     "output_type": "execute_result"
    }
   ],
   "source": [
    "response = re.delete(api)\n",
    "response.json()"
   ]
  },
  {
   "cell_type": "code",
   "execution_count": null,
   "id": "66f8070d",
   "metadata": {},
   "outputs": [],
   "source": []
  }
 ],
 "metadata": {
  "kernelspec": {
   "display_name": "Python 3 (ipykernel)",
   "language": "python",
   "name": "python3"
  },
  "language_info": {
   "codemirror_mode": {
    "name": "ipython",
    "version": 3
   },
   "file_extension": ".py",
   "mimetype": "text/x-python",
   "name": "python",
   "nbconvert_exporter": "python",
   "pygments_lexer": "ipython3",
   "version": "3.9.13"
  }
 },
 "nbformat": 4,
 "nbformat_minor": 5
}
